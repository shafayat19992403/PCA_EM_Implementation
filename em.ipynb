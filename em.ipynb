{
 "cells": [
  {
   "cell_type": "code",
   "execution_count": 23,
   "metadata": {},
   "outputs": [],
   "source": [
    "import numpy as np\n",
    "import pandas as pd\n",
    "from scipy.stats import poisson"
   ]
  },
  {
   "cell_type": "code",
   "execution_count": 24,
   "metadata": {},
   "outputs": [],
   "source": [
    "file_path = \"em_data.txt\"\n",
    "data = pd.read_csv(file_path, header=None, names=[\"children\"])[\"children\"].values\n"
   ]
  },
  {
   "cell_type": "code",
   "execution_count": 25,
   "metadata": {},
   "outputs": [],
   "source": [
    "np.random.seed(42)\n",
    "lambda_A = np.random.uniform(1, 5)  # Initial guess for mean in Group A\n",
    "lambda_B = np.random.uniform(5, 10)  # Initial guess for mean in Group B\n",
    "pi_A = 0.5  # Initial guess for proportion in Group A\n",
    "N = len(data)"
   ]
  },
  {
   "cell_type": "code",
   "execution_count": 26,
   "metadata": {},
   "outputs": [],
   "source": [
    "def poisson_prob(x, lam):\n",
    "    return poisson.pmf(x, lam)"
   ]
  },
  {
   "cell_type": "code",
   "execution_count": 27,
   "metadata": {},
   "outputs": [
    {
     "name": "stdout",
     "output_type": "stream",
     "text": [
      "Converged in 209 iterations\n",
      "Mean number of children with family planning (lambda_A): 1.7824\n",
      "Mean number of children without family planning (lambda_B): 4.9107\n",
      "Proportion of families with family planning (pi_A): 0.3560\n",
      "Proportion of families without family planning (1 - pi_A): 0.6440\n"
     ]
    }
   ],
   "source": [
    "tolerance = 1e-6\n",
    "max_iter = 1000\n",
    "for iteration in range(max_iter):\n",
    "    # E-Step: Calculate responsibilities\n",
    "    prob_A = pi_A * poisson_prob(data, lambda_A)\n",
    "    prob_B = (1 - pi_A) * poisson_prob(data, lambda_B)\n",
    "    total_prob = prob_A + prob_B\n",
    "    r_A = prob_A / total_prob\n",
    "    r_B = prob_B / total_prob\n",
    "\n",
    "    # M-Step: Update parameters\n",
    "    new_lambda_A = np.sum(r_A * data) / np.sum(r_A)\n",
    "    new_lambda_B = np.sum(r_B * data) / np.sum(r_B)\n",
    "    new_pi_A = np.sum(r_A) / N\n",
    "\n",
    "    # Check convergence\n",
    "    if (abs(new_lambda_A - lambda_A) < tolerance and\n",
    "        abs(new_lambda_B - lambda_B) < tolerance and\n",
    "        abs(new_pi_A - pi_A) < tolerance):\n",
    "        break\n",
    "\n",
    "    lambda_A, lambda_B, pi_A = new_lambda_A, new_lambda_B, new_pi_A\n",
    "\n",
    "# Print results\n",
    "print(f\"Converged in {iteration+1} iterations\")\n",
    "print(f\"Mean number of children with family planning (lambda_A): {lambda_A:.4f}\")\n",
    "print(f\"Mean number of children without family planning (lambda_B): {lambda_B:.4f}\")\n",
    "print(f\"Proportion of families with family planning (pi_A): {pi_A:.4f}\")\n",
    "print(f\"Proportion of families without family planning (1 - pi_A): {1 - pi_A:.4f}\")"
   ]
  }
 ],
 "metadata": {
  "kernelspec": {
   "display_name": "Python 3",
   "language": "python",
   "name": "python3"
  },
  "language_info": {
   "codemirror_mode": {
    "name": "ipython",
    "version": 3
   },
   "file_extension": ".py",
   "mimetype": "text/x-python",
   "name": "python",
   "nbconvert_exporter": "python",
   "pygments_lexer": "ipython3",
   "version": "3.11.4"
  }
 },
 "nbformat": 4,
 "nbformat_minor": 2
}
